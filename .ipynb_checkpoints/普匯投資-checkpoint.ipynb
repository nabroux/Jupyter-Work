{
 "cells": [
  {
   "cell_type": "code",
   "execution_count": 31,
   "metadata": {},
   "outputs": [
    {
     "name": "stdout",
     "output_type": "stream",
     "text": [
      "借款金額48000\n",
      "期數: 24\n",
      "每月回款: 2351\n",
      "末月回款: 2949\n"
     ]
    },
    {
     "data": {
      "text/plain": [
       "0.007336614583333332"
      ]
     },
     "execution_count": 31,
     "metadata": {},
     "output_type": "execute_result"
    }
   ],
   "source": [
    "# irr = int(input('年化報酬率: '))\n",
    "\n",
    "amount = int(input('借款金額'))\n",
    "period = int(input('期數: '))\n",
    "ppm = int(input('每月回款: '))\n",
    "lmp = int(input('末月回款: '))\n",
    "fee = 1\n",
    "\n",
    "res = (((period-1)*(ppm)+lmp)*((100-fee)/100) - amount) / amount / period\n",
    "\n",
    "res"
   ]
  },
  {
   "cell_type": "code",
   "execution_count": null,
   "metadata": {},
   "outputs": [],
   "source": []
  },
  {
   "cell_type": "code",
   "execution_count": null,
   "metadata": {},
   "outputs": [],
   "source": []
  }
 ],
 "metadata": {
  "kernelspec": {
   "display_name": "Python 3",
   "language": "python",
   "name": "python3"
  },
  "language_info": {
   "codemirror_mode": {
    "name": "ipython",
    "version": 3
   },
   "file_extension": ".py",
   "mimetype": "text/x-python",
   "name": "python",
   "nbconvert_exporter": "python",
   "pygments_lexer": "ipython3",
   "version": "3.7.3"
  }
 },
 "nbformat": 4,
 "nbformat_minor": 2
}
