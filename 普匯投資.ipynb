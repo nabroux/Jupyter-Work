{
 "cells": [
  {
   "cell_type": "markdown",
   "metadata": {},
   "source": [
    "# 利率"
   ]
  },
  {
   "cell_type": "code",
   "execution_count": 34,
   "metadata": {},
   "outputs": [
    {
     "name": "stdout",
     "output_type": "stream",
     "text": [
      "借款金額14000\n",
      "期數: 3\n",
      "每月回款: 4737\n",
      "末月回款: 4803\n"
     ]
    },
    {
     "data": {
      "text/plain": [
       "0.0031959523809523705"
      ]
     },
     "execution_count": 34,
     "metadata": {},
     "output_type": "execute_result"
    }
   ],
   "source": [
    "# irr = int(input('年化報酬率: '))\n",
    "\n",
    "amount = int(input('借款金額'))\n",
    "period = int(input('期數: '))\n",
    "ppm = int(input('每月回款: '))\n",
    "lmp = int(input('末月回款: '))\n",
    "fee = 1\n",
    "\n",
    "res = (((period-1)*(ppm)+lmp)*((100-fee)/100) - amount) / amount / period\n",
    "\n",
    "res"
   ]
  },
  {
   "cell_type": "code",
   "execution_count": 39,
   "metadata": {},
   "outputs": [
    {
     "data": {
      "text/plain": [
       "0.09684908789386401"
      ]
     },
     "execution_count": 39,
     "metadata": {},
     "output_type": "execute_result"
    }
   ],
   "source": [
    "146 / 1005 / 18 * 12"
   ]
  },
  {
   "cell_type": "code",
   "execution_count": null,
   "metadata": {},
   "outputs": [],
   "source": []
  },
  {
   "cell_type": "markdown",
   "metadata": {},
   "source": [
    "# 本金計算"
   ]
  },
  {
   "cell_type": "code",
   "execution_count": 1,
   "metadata": {},
   "outputs": [
    {
     "data": {
      "text/plain": [
       "123711"
      ]
     },
     "execution_count": 1,
     "metadata": {},
     "output_type": "execute_result"
    }
   ],
   "source": [
    "latest = '2020/10/14'\n",
    "log = '10000 15000 30000 70000 -39452 2156 2074 2404 31529'\n",
    "log = [int(i) for i in log.split()]\n",
    "sum(log)"
   ]
  }
 ],
 "metadata": {
  "kernelspec": {
   "display_name": "Python 3",
   "language": "python",
   "name": "python3"
  },
  "language_info": {
   "codemirror_mode": {
    "name": "ipython",
    "version": 3
   },
   "file_extension": ".py",
   "mimetype": "text/x-python",
   "name": "python",
   "nbconvert_exporter": "python",
   "pygments_lexer": "ipython3",
   "version": "3.7.3"
  }
 },
 "nbformat": 4,
 "nbformat_minor": 2
}
